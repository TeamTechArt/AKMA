{
 "cells": [
  {
   "cell_type": "markdown",
   "id": "a6eb4b84",
   "metadata": {},
   "source": [
    "# BentoML Sample"
   ]
  },
  {
   "cell_type": "markdown",
   "id": "03f2f304",
   "metadata": {},
   "source": [
    "### 우선 사용할 wav 파일의 경로와 video 파일이 저장 될 경로를 지정해 줍니다.\n",
    "### First, specify the path of the wav file to be used and the path where the video file will be saved."
   ]
  },
  {
   "cell_type": "code",
   "execution_count": 1,
   "id": "a397c2fa-e5de-4db3-8b3a-ee82a8c07faf",
   "metadata": {},
   "outputs": [],
   "source": [
    "wave_path = 'Documents/Streamlit/wav/paradox.wav'\n",
    "mp4_path = 'Documents/Streamlit/video/test.mp4'"
   ]
  },
  {
   "cell_type": "markdown",
   "id": "0978d4be",
   "metadata": {},
   "source": [
    "### 사용할 url 를 입력해주고, user 와 sever 간의 request & response 를 진행할 수 있는 setting을 해줍니다.\n",
    "### Second, Enter the url to use and set the request & response between the user and the server."
   ]
  },
  {
   "cell_type": "code",
   "execution_count": 2,
   "id": "adb0ad8b-6086-4b1b-a291-c09d2c8dad9e",
   "metadata": {},
   "outputs": [],
   "source": [
    "import requests\n",
    "your_url = \"http://125.129.30.160:19871/classify\"\n",
    "with open(wave_path, \"rb\") as f:\n",
    "    my_wav = f.read()\n",
    "file = { \"mywave\": (\"my_wav.wav\", my_wav) }\n",
    "response = requests.post(your_url, files=file)"
   ]
  },
  {
   "cell_type": "markdown",
   "id": "1c157a64",
   "metadata": {},
   "source": [
    "### 3. server로 부터 response 받은 것을 기반으로 위에서 지정한 영상 경로로 덮어 씌워줍니다.\n",
    "### Third, Based on the response received from the server, it overwrites the image path specified above."
   ]
  },
  {
   "cell_type": "code",
   "execution_count": 3,
   "id": "781b02c4-18ba-4abc-8e37-307ad00ca2e4",
   "metadata": {},
   "outputs": [],
   "source": [
    "with open(mp4_path, \"wb\") as f:\n",
    "    f.write(response.content)"
   ]
  },
  {
   "cell_type": "code",
   "execution_count": null,
   "id": "9e4add33-6643-477f-8274-e6b76fcc4f5e",
   "metadata": {},
   "outputs": [],
   "source": []
  }
 ],
 "metadata": {
  "kernelspec": {
   "display_name": "Python 3.9.6 64-bit",
   "language": "python",
   "name": "python396jvsc74a57bd0aee8b7b246df8f9039afb4144a1f6fd8d2ca17a180786b69acc140d282b71a49"
  },
  "language_info": {
   "codemirror_mode": {
    "name": "ipython",
    "version": 3
   },
   "file_extension": ".py",
   "mimetype": "text/x-python",
   "name": "python",
   "nbconvert_exporter": "python",
   "pygments_lexer": "ipython3",
   "version": "3.9.6"
  }
 },
 "nbformat": 4,
 "nbformat_minor": 5
}
